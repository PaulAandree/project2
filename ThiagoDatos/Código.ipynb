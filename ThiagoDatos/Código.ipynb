{
 "cells": [
  {
   "cell_type": "code",
   "execution_count": null,
   "metadata": {},
   "outputs": [],
   "source": [
    "import pandas as pd"
   ]
  },
  {
   "attachments": {},
   "cell_type": "markdown",
   "metadata": {},
   "source": [
    "Leemos los archivos"
   ]
  },
  {
   "cell_type": "code",
   "execution_count": null,
   "metadata": {},
   "outputs": [],
   "source": [
    "Int_movil = pd.read_csv('Int_movil.csv')\n",
    "Int_fijo = pd.read_csv('Int_fijo.csv')"
   ]
  },
  {
   "attachments": {},
   "cell_type": "markdown",
   "metadata": {},
   "source": [
    "Aplicamos Data Cleansing"
   ]
  },
  {
   "cell_type": "code",
   "execution_count": null,
   "metadata": {},
   "outputs": [],
   "source": [
    "Int_movil['Ingresos (miles de $)'] = Int_movil['Ingresos (miles de $)'].str.replace('[.$ ]','', regex=True)\n",
    "Int_movil['Periodo'] = Int_movil['Periodo'].str.replace('\\s+|\\d{4}', '', regex=True)\n",
    "\n",
    "Int_fijo['Ingresos (miles de pesos)'] = Int_fijo['Ingresos (miles de pesos)'].str.replace('.','')\n",
    "Int_fijo['Periodo'] = Int_fijo['Periodo'].str.replace('\\s+|\\d{4}', '', regex=True)"
   ]
  },
  {
   "attachments": {},
   "cell_type": "markdown",
   "metadata": {},
   "source": [
    "Guardamos los nuevos csv"
   ]
  },
  {
   "cell_type": "code",
   "execution_count": null,
   "metadata": {},
   "outputs": [],
   "source": [
    "Int_movil.to_csv('Int_movil_dc.csv', index=False)\n",
    "Int_fijo.to_csv('Int_fijo_dc.csv', index=False)"
   ]
  },
  {
   "cell_type": "code",
   "execution_count": null,
   "metadata": {},
   "outputs": [],
   "source": [
    "df_inf = pd.read_csv('df_inflacion.csv')\n",
    "df_inf\n",
    "#probando"
   ]
  },
  {
   "cell_type": "code",
   "execution_count": 37,
   "metadata": {},
   "outputs": [
    {
     "name": "stdout",
     "output_type": "stream",
     "text": [
      "100\n",
      "160.0\n",
      "256.0\n",
      "409.6\n"
     ]
    }
   ],
   "source": [
    "a = 100\n",
    "for i in range(4):\n",
    "    print(round(a, 2))\n",
    "    a *= 1.6"
   ]
  },
  {
   "cell_type": "code",
   "execution_count": 36,
   "metadata": {},
   "outputs": [
    {
     "name": "stdout",
     "output_type": "stream",
     "text": [
      "100\n",
      "120.0\n",
      "144.0\n",
      "172.8\n",
      "207.36\n",
      "248.83\n",
      "298.6\n",
      "358.32\n",
      "429.98\n",
      "515.98\n",
      "619.17\n",
      "743.01\n"
     ]
    }
   ],
   "source": [
    "a = 100\n",
    "for i in range(12):\n",
    "    print(round(a, 2))\n",
    "    a *= 1.2"
   ]
  }
 ],
 "metadata": {
  "kernelspec": {
   "display_name": "Python 3",
   "language": "python",
   "name": "python3"
  },
  "language_info": {
   "codemirror_mode": {
    "name": "ipython",
    "version": 3
   },
   "file_extension": ".py",
   "mimetype": "text/x-python",
   "name": "python",
   "nbconvert_exporter": "python",
   "pygments_lexer": "ipython3",
   "version": "3.10.11"
  },
  "orig_nbformat": 4
 },
 "nbformat": 4,
 "nbformat_minor": 2
}
