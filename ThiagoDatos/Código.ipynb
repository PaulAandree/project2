{
 "cells": [
  {
   "cell_type": "code",
   "execution_count": 28,
   "metadata": {},
   "outputs": [],
   "source": [
    "import pandas as pd"
   ]
  },
  {
   "attachments": {},
   "cell_type": "markdown",
   "metadata": {},
   "source": [
    "Leemos los archivos"
   ]
  },
  {
   "cell_type": "code",
   "execution_count": 29,
   "metadata": {},
   "outputs": [],
   "source": [
    "Int_movil = pd.read_csv('Int_movil.csv')\n",
    "Int_fijo = pd.read_csv('Int_fijo.csv')"
   ]
  },
  {
   "attachments": {},
   "cell_type": "markdown",
   "metadata": {},
   "source": [
    "Aplicamos Data Cleansing"
   ]
  },
  {
   "cell_type": "code",
   "execution_count": 30,
   "metadata": {},
   "outputs": [],
   "source": [
    "Int_movil['Ingresos (miles de $)'] = Int_movil['Ingresos (miles de $)'].str.replace('[.$ ]','', regex=True)\n",
    "Int_movil['Periodo'] = Int_movil['Periodo'].str.replace('\\s+|\\d{4}', '', regex=True)\n",
    "\n",
    "Int_fijo['Ingresos (miles de pesos)'] = Int_fijo['Ingresos (miles de pesos)'].str.replace('.','')\n",
    "Int_fijo['Periodo'] = Int_fijo['Periodo'].str.replace('\\s+|\\d{4}', '', regex=True)"
   ]
  },
  {
   "attachments": {},
   "cell_type": "markdown",
   "metadata": {},
   "source": [
    "Guardamos los nuevos csv"
   ]
  },
  {
   "cell_type": "code",
   "execution_count": 31,
   "metadata": {},
   "outputs": [],
   "source": [
    "Int_movil.to_csv('Int_movil_dc.csv', index=False)\n",
    "Int_fijo.to_csv('Int_fijo_dc.csv', index=False)"
   ]
  }
 ],
 "metadata": {
  "kernelspec": {
   "display_name": "Python 3",
   "language": "python",
   "name": "python3"
  },
  "language_info": {
   "codemirror_mode": {
    "name": "ipython",
    "version": 3
   },
   "file_extension": ".py",
   "mimetype": "text/x-python",
   "name": "python",
   "nbconvert_exporter": "python",
   "pygments_lexer": "ipython3",
   "version": "3.10.11"
  },
  "orig_nbformat": 4
 },
 "nbformat": 4,
 "nbformat_minor": 2
}
