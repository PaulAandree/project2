{
 "cells": [
  {
   "cell_type": "code",
   "execution_count": null,
   "metadata": {},
   "outputs": [],
   "source": [
    "import pandas as pd\n",
    "import matplotlib.pyplot as plt\n"
   ]
  },
  {
   "cell_type": "code",
   "execution_count": null,
   "metadata": {},
   "outputs": [],
   "source": [
    "import seaborn as sns"
   ]
  },
  {
   "cell_type": "code",
   "execution_count": null,
   "metadata": {},
   "outputs": [],
   "source": [
    "df1 = pd.read_csv(\"AccesosaInternetfijoportecnologiaylocalidad.csv\")\n",
    "df2 = pd.read_csv(\"Internet_Penetracion (1).csv\")\n",
    "df3 = pd.read_csv(\"Portabilidad_movil.csv\")\n",
    "df4 = pd.read_csv(\"Telefonia_movil_ingresos_prestación del cervicio.csv\")\n",
    "df5 = pd.read_csv(\"Listadodelocalidadesconconectividadainternet.csv\")\n",
    "df6= pd.read_csv(\"Internet_Penetracion_xhogares.csv\")"
   ]
  },
  {
   "cell_type": "code",
   "execution_count": null,
   "metadata": {},
   "outputs": [],
   "source": [
    "print(df1)"
   ]
  },
  {
   "cell_type": "code",
   "execution_count": null,
   "metadata": {},
   "outputs": [],
   "source": [
    "# Análisis exploratorio del df1\n",
    "print(\"Información del DataFrame df1:\")\n",
    "print(df1.info())\n",
    "print(\"Resumen estadístico del DataFrame df1:\")\n",
    "print(df1.describe())"
   ]
  },
  {
   "cell_type": "code",
   "execution_count": null,
   "metadata": {},
   "outputs": [],
   "source": [
    "# Realizar visualizaciones y análisis específicos según los datos de df1\n",
    "\n",
    "# Análisis exploratorio del df2\n",
    "#print(\"Información del DataFrame df2:\")\n",
    "#print(df2.info())\n",
    "#print(\"Resumen estadístico del DataFrame df2:\")\n",
    "#print(df2.describe())\n",
    "# Realizar visualizaciones y análisis específicos según los datos de df2"
   ]
  },
  {
   "cell_type": "code",
   "execution_count": null,
   "metadata": {},
   "outputs": [],
   "source": [
    "# Reemplazar las comas por puntos en la columna \"Accesos por cada 100 hogares\"\n",
    "df2['Accesos por cada 100 hogares'] = df2['Accesos por cada 100 hogares'].str.replace(',', '.')"
   ]
  },
  {
   "cell_type": "code",
   "execution_count": null,
   "metadata": {},
   "outputs": [],
   "source": [
    "# Convertir los valores a tipo numérico\n",
    "df2['Accesos por cada 100 hogares'] = pd.to_numeric(df2['Accesos por cada 100 hogares'])"
   ]
  },
  {
   "cell_type": "code",
   "execution_count": null,
   "metadata": {},
   "outputs": [],
   "source": [
    "# Filtrar los datos para el año 2022\n",
    "df_2022 = df2[df2['Año'] == 2022]"
   ]
  },
  {
   "cell_type": "code",
   "execution_count": null,
   "metadata": {},
   "outputs": [],
   "source": [
    "# Calcular la media del acceso por cada 100 hogares por provincia en el año 2022\n",
    "media_por_provincia = df_2022.groupby('Provincia')['Accesos por cada 100 hogares'].mean().round(2)\n",
    "\n",
    "# Imprimir los resultados\n",
    "print(media_por_provincia)"
   ]
  },
  {
   "cell_type": "code",
   "execution_count": null,
   "metadata": {},
   "outputs": [],
   "source": [
    "desviacion_estandar_por_provincia = df_2022.groupby('Provincia')['Accesos por cada 100 hogares'].std()\n",
    "print(\"\\nDesviación Estándar:\")\n",
    "print(desviacion_estandar_por_provincia)"
   ]
  },
  {
   "cell_type": "code",
   "execution_count": null,
   "metadata": {},
   "outputs": [],
   "source": [
    "# Filtrar los datos para el año 2022\n",
    "df_2022 = df2[df2['Año'] == 2022]\n",
    "\n",
    "# Calcular la media del acceso por cada 100 hogares por provincia en el año 2022\n",
    "media_por_provincia = df_2022.groupby('Provincia')['Accesos por cada 100 hogares'].mean().round(2)\n",
    "\n",
    "# Imprimir los resultados\n",
    "print(media_por_provincia)"
   ]
  },
  {
   "attachments": {},
   "cell_type": "markdown",
   "metadata": {},
   "source": [
    "# Grafico de barras"
   ]
  },
  {
   "cell_type": "code",
   "execution_count": null,
   "metadata": {},
   "outputs": [],
   "source": [
    "df_promedio = df2.groupby('Provincia')['Accesos por cada 100 hogares'].mean()\n",
    "\n",
    "# Crear la figura y los ejes\n",
    "fig, ax = plt.subplots()\n",
    "\n",
    "# Crear la figura y los ejes\n",
    "fig, ax = plt.subplots()\n",
    "\n",
    "# Configurar los datos para el gráfico de barras\n",
    "provincias = df_promedio.index\n",
    "promedios = df_promedio.values\n",
    "\n",
    "# Crear el gráfico de barras\n",
    "ax.bar(provincias, promedios)\n",
    "\n",
    "# Configurar las etiquetas y el título del gráfico\n",
    "ax.set_xlabel('Provincia')\n",
    "ax.set_ylabel('Promedio por cada 100 hogares')\n",
    "ax.set_title('Promedio de accesos por cada 100 hogares por provincia en 2022')\n",
    "\n",
    "# Rotar las etiquetas del eje x para una mejor legibilidad\n",
    "plt.xticks(rotation=90)\n",
    "\n",
    "# Mostrar los valores de promedio sobre las barras\n",
    "for i, v in enumerate(promedios):\n",
    "    ax.text(i, v, str(round(v, 2)), ha='center', va='bottom')\n",
    "\n"
   ]
  },
  {
   "cell_type": "code",
   "execution_count": null,
   "metadata": {},
   "outputs": [],
   "source": [
    "\n",
    "# Mostrar el gráfico\n",
    "plt.show()"
   ]
  },
  {
   "attachments": {},
   "cell_type": "markdown",
   "metadata": {},
   "source": [
    "# analisis bivariados"
   ]
  },
  {
   "cell_type": "code",
   "execution_count": null,
   "metadata": {},
   "outputs": [],
   "source": [
    "# Obtener los datos del DataFrame\n",
    "x = df2['Accesos por cada 100 hogares']  # Datos para el eje x\n",
    "y = df2['Provincia']  # Datos para el eje y\n",
    "\n",
    "# Crear el gráfico de dispersión\n",
    "plt.scatter(x, y)\n",
    "\n",
    "# Configurar etiquetas y título\n",
    "plt.xlabel('Accesos por cada 100 hogares')\n",
    "plt.ylabel('Provincia')\n",
    "plt.title('Gráfico de Dispersión')\n",
    "\n",
    "# Mostrar el gráfico\n",
    "plt.show()"
   ]
  },
  {
   "attachments": {},
   "cell_type": "markdown",
   "metadata": {},
   "source": [
    "# OUTLIERS"
   ]
  },
  {
   "cell_type": "code",
   "execution_count": 15,
   "metadata": {},
   "outputs": [],
   "source": [
    "import numpy as np\n"
   ]
  },
  {
   "cell_type": "code",
   "execution_count": 16,
   "metadata": {},
   "outputs": [],
   "source": [
    "df2 = pd.read_csv(\"Internet_Penetracion (1).csv\")\n"
   ]
  },
  {
   "cell_type": "code",
   "execution_count": 18,
   "metadata": {},
   "outputs": [],
   "source": [
    "df2['Accesos por cada 100 hogares'] = df2['Accesos por cada 100 hogares'].str.replace(',', '.')\n",
    "\n",
    "# Convertir los valores a tipo numérico\n",
    "df2['Accesos por cada 100 hogares'] = pd.to_numeric(df2['Accesos por cada 100 hogares'])\n"
   ]
  },
  {
   "cell_type": "code",
   "execution_count": 19,
   "metadata": {},
   "outputs": [],
   "source": [
    "Q1 = np.percentile(df2['Accesos por cada 100 hogares'], 25)\n",
    "Q3 = np.percentile(df2['Accesos por cada 100 hogares'], 75)\n",
    "IQR = Q3 - Q1"
   ]
  },
  {
   "cell_type": "code",
   "execution_count": 20,
   "metadata": {},
   "outputs": [
    {
     "name": "stdout",
     "output_type": "stream",
     "text": [
      "      Año  Trimestre        Provincia  Accesos por cada 100 hogares\n",
      "1    2022          3  Capital Federal                        122.28\n",
      "25   2022          2  Capital Federal                        121.31\n",
      "49   2022          1  Capital Federal                        111.80\n",
      "73   2021          4  Capital Federal                        111.27\n",
      "97   2021          3  Capital Federal                        111.27\n",
      "121  2021          2  Capital Federal                        110.14\n",
      "145  2021          1  Capital Federal                        108.42\n",
      "169  2020          4  Capital Federal                        108.31\n",
      "193  2020          3  Capital Federal                        107.68\n",
      "289  2019          3  Capital Federal                        112.65\n",
      "313  2019          2  Capital Federal                        110.55\n",
      "337  2019          1  Capital Federal                        109.20\n",
      "361  2018          4  Capital Federal                        108.27\n",
      "385  2018          3  Capital Federal                        108.45\n",
      "409  2018          2  Capital Federal                        106.53\n",
      "457  2017          4  Capital Federal                        122.90\n",
      "481  2017          3  Capital Federal                        121.86\n",
      "505  2017          2  Capital Federal                        124.06\n",
      "529  2017          1  Capital Federal                        108.37\n",
      "553  2016          4  Capital Federal                        120.63\n",
      "577  2016          3  Capital Federal                        120.77\n",
      "601  2016          2  Capital Federal                        120.04\n",
      "625  2016          1  Capital Federal                        115.16\n",
      "649  2015          4  Capital Federal                        118.13\n",
      "673  2015          3  Capital Federal                        118.29\n",
      "697  2015          2  Capital Federal                        116.07\n",
      "721  2015          1  Capital Federal                        114.90\n",
      "745  2014          4  Capital Federal                        114.90\n",
      "769  2014          3  Capital Federal                        113.80\n",
      "793  2014          2  Capital Federal                        113.14\n",
      "817  2014          1  Capital Federal                        112.25\n"
     ]
    }
   ],
   "source": [
    "# Definir los límites para detectar outliers\n",
    "lower_bound = Q1 - 1.5 * IQR\n",
    "upper_bound = Q3 + 1.5 * IQR\n",
    "\n",
    "outliers = df2[(df2['Accesos por cada 100 hogares'] < lower_bound) | (df2['Accesos por cada 100 hogares'] > upper_bound)]\n",
    "\n",
    "# Imprimir los outliers\n",
    "print(outliers)"
   ]
  }
 ],
 "metadata": {
  "kernelspec": {
   "display_name": "Python 3",
   "language": "python",
   "name": "python3"
  },
  "language_info": {
   "codemirror_mode": {
    "name": "ipython",
    "version": 3
   },
   "file_extension": ".py",
   "mimetype": "text/x-python",
   "name": "python",
   "nbconvert_exporter": "python",
   "pygments_lexer": "ipython3",
   "version": "3.11.2"
  },
  "orig_nbformat": 4
 },
 "nbformat": 4,
 "nbformat_minor": 2
}
